{
  "nbformat": 4,
  "nbformat_minor": 0,
  "metadata": {
    "colab": {
      "name": "Mnist_autoencoder_size_reduction.ipynb",
      "version": "0.3.2",
      "provenance": [],
      "collapsed_sections": [],
      "toc_visible": true
    },
    "kernelspec": {
      "name": "python3",
      "display_name": "Python 3"
    },
    "accelerator": "GPU"
  },
  "cells": [
    {
      "cell_type": "markdown",
      "metadata": {
        "id": "DK9I1gRhOrOi",
        "colab_type": "text"
      },
      "source": [
        "#Importing Packages and dataset"
      ]
    },
    {
      "cell_type": "code",
      "metadata": {
        "id": "YDlbPm8DBLRH",
        "colab_type": "code",
        "colab": {}
      },
      "source": [
        "import tensorflow as tf\n",
        "import numpy as np\n",
        "from matplotlib import pyplot as plt\n",
        "from tensorflow.keras.layers import Input,Conv2D,MaxPooling2D,UpSampling2D,Conv2DTranspose\n",
        "from tensorflow.keras.models import Model\n",
        "from tensorflow.keras.optimizers import Adam,RMSprop\n",
        "from tensorflow.keras import backend as K\n",
        "import sklearn\n",
        "from sklearn.model_selection import train_test_split"
      ],
      "execution_count": 0,
      "outputs": []
    },
    {
      "cell_type": "code",
      "metadata": {
        "id": "_ih-0jNhAETs",
        "colab_type": "code",
        "colab": {}
      },
      "source": [
        "(x_train, y_train), (x_test, y_test) = tf.keras.datasets.mnist.load_data()"
      ],
      "execution_count": 0,
      "outputs": []
    },
    {
      "cell_type": "markdown",
      "metadata": {
        "id": "vRUlMyJoT4Wq",
        "colab_type": "text"
      },
      "source": [
        "Reshaping the data as per the model requirement"
      ]
    },
    {
      "cell_type": "code",
      "metadata": {
        "id": "Rhdk2bYl19yp",
        "colab_type": "code",
        "colab": {}
      },
      "source": [
        "x_train = x_train.reshape(-1, 28,28, 1)/255\n",
        "x_test = x_test.reshape(-1, 28,28, 1)/255"
      ],
      "execution_count": 0,
      "outputs": []
    },
    {
      "cell_type": "markdown",
      "metadata": {
        "id": "wxZPaZvLT_Cv",
        "colab_type": "text"
      },
      "source": [
        "Splitting the data for validation"
      ]
    },
    {
      "cell_type": "code",
      "metadata": {
        "id": "dtZ4A1IbFW32",
        "colab_type": "code",
        "colab": {}
      },
      "source": [
        "X,X_val,Y,Y_val = train_test_split(x_train,x_train,test_size=0.2)"
      ],
      "execution_count": 0,
      "outputs": []
    },
    {
      "cell_type": "markdown",
      "metadata": {
        "id": "XXUbdq12Oyst",
        "colab_type": "text"
      },
      "source": [
        "#Autoencoder Model"
      ]
    },
    {
      "cell_type": "code",
      "metadata": {
        "id": "IkklqjW9-O5b",
        "colab_type": "code",
        "colab": {}
      },
      "source": [
        "input_img = Input(shape = (28, 28, 1))"
      ],
      "execution_count": 0,
      "outputs": []
    },
    {
      "cell_type": "code",
      "metadata": {
        "id": "9qRhsDjX10S5",
        "colab_type": "code",
        "colab": {}
      },
      "source": [
        "def autoencoder(input_img):\n",
        "    #encoder\n",
        "    x = Conv2D(256, (3, 3), activation='relu', padding='same')(input_img)\n",
        "    x = Conv2D(128, (3, 3), activation='relu', padding='same')(x)\n",
        "    x = Conv2D(64, (3, 3), activation='relu', padding='same')(x)\n",
        "    x = MaxPooling2D(pool_size=(2, 2))(x)\n",
        "    x = Conv2D(32, (3, 3), activation='relu', padding='same')(x)\n",
        "    x = Conv2D(16, (3, 3), activation='relu', padding='same')(x)\n",
        "    x = Conv2D(8, (1, 1), activation='relu', padding='same')(x)\n",
        "    x = MaxPooling2D(pool_size=(2, 2))(x)\n",
        "    x = Conv2D(4, (3, 3), activation='relu', padding='same')(x)\n",
        "    x = Conv2D(2, (1, 1), activation='relu', padding='same')(x)\n",
        "    x = Conv2D(1, (1, 1), activation='relu', padding='same')(x)\n",
        "    #decoder\n",
        "    x = Conv2D(2, (1, 1), activation='relu', padding='same')(x)\n",
        "    x = Conv2D(4, (3, 3), activation='relu', padding='same')(x)\n",
        "    x = Conv2D(8, (3, 3), activation='relu', padding='same')(x)\n",
        "    x = UpSampling2D((2, 2))(x)\n",
        "    x = Conv2D(16, (3, 3), activation='relu', padding='same')(x)\n",
        "    x = Conv2D(32, (3, 3), activation='relu', padding='same')(x)\n",
        "    x = Conv2D(64, (3, 3), activation='relu', padding='same')(x)\n",
        "    x = UpSampling2D((2, 2))(x)\n",
        "    x = Conv2D(128, (3, 3), activation='relu', padding='same')(x)\n",
        "    x = Conv2D(256, (3, 3), activation='relu', padding='same')(x)\n",
        "    x = Conv2D(1, (3, 3), activation='tanh', padding='same')(x)\n",
        "    return x"
      ],
      "execution_count": 0,
      "outputs": []
    },
    {
      "cell_type": "code",
      "metadata": {
        "id": "w2oIdvtXit-s",
        "colab_type": "code",
        "colab": {}
      },
      "source": [
        "autoencoder_train = Model(input_img, autoencoder(input_img))\n",
        "autoencoder_train.compile(loss='mean_squared_error', optimizer = Adam())"
      ],
      "execution_count": 0,
      "outputs": []
    },
    {
      "cell_type": "code",
      "metadata": {
        "id": "airJUlrziuhx",
        "colab_type": "code",
        "outputId": "a8dc2fe1-9ddd-48da-bc07-29051117ef01",
        "colab": {
          "base_uri": "https://localhost:8080/",
          "height": 955
        }
      },
      "source": [
        "autoencoder_train.summary()"
      ],
      "execution_count": 39,
      "outputs": [
        {
          "output_type": "stream",
          "text": [
            "Model: \"model_5\"\n",
            "_________________________________________________________________\n",
            "Layer (type)                 Output Shape              Param #   \n",
            "=================================================================\n",
            "input_4 (InputLayer)         [(None, 28, 28, 1)]       0         \n",
            "_________________________________________________________________\n",
            "conv2d_54 (Conv2D)           (None, 28, 28, 256)       2560      \n",
            "_________________________________________________________________\n",
            "conv2d_55 (Conv2D)           (None, 28, 28, 128)       295040    \n",
            "_________________________________________________________________\n",
            "conv2d_56 (Conv2D)           (None, 28, 28, 64)        73792     \n",
            "_________________________________________________________________\n",
            "max_pooling2d_6 (MaxPooling2 (None, 14, 14, 64)        0         \n",
            "_________________________________________________________________\n",
            "conv2d_57 (Conv2D)           (None, 14, 14, 32)        18464     \n",
            "_________________________________________________________________\n",
            "conv2d_58 (Conv2D)           (None, 14, 14, 16)        4624      \n",
            "_________________________________________________________________\n",
            "conv2d_59 (Conv2D)           (None, 14, 14, 8)         136       \n",
            "_________________________________________________________________\n",
            "max_pooling2d_7 (MaxPooling2 (None, 7, 7, 8)           0         \n",
            "_________________________________________________________________\n",
            "conv2d_60 (Conv2D)           (None, 7, 7, 4)           292       \n",
            "_________________________________________________________________\n",
            "conv2d_61 (Conv2D)           (None, 7, 7, 2)           10        \n",
            "_________________________________________________________________\n",
            "conv2d_62 (Conv2D)           (None, 7, 7, 1)           3         \n",
            "_________________________________________________________________\n",
            "conv2d_63 (Conv2D)           (None, 7, 7, 2)           4         \n",
            "_________________________________________________________________\n",
            "conv2d_64 (Conv2D)           (None, 7, 7, 4)           76        \n",
            "_________________________________________________________________\n",
            "conv2d_65 (Conv2D)           (None, 7, 7, 8)           296       \n",
            "_________________________________________________________________\n",
            "up_sampling2d_6 (UpSampling2 (None, 14, 14, 8)         0         \n",
            "_________________________________________________________________\n",
            "conv2d_66 (Conv2D)           (None, 14, 14, 16)        1168      \n",
            "_________________________________________________________________\n",
            "conv2d_67 (Conv2D)           (None, 14, 14, 32)        4640      \n",
            "_________________________________________________________________\n",
            "conv2d_68 (Conv2D)           (None, 14, 14, 64)        18496     \n",
            "_________________________________________________________________\n",
            "up_sampling2d_7 (UpSampling2 (None, 28, 28, 64)        0         \n",
            "_________________________________________________________________\n",
            "conv2d_69 (Conv2D)           (None, 28, 28, 128)       73856     \n",
            "_________________________________________________________________\n",
            "conv2d_70 (Conv2D)           (None, 28, 28, 256)       295168    \n",
            "_________________________________________________________________\n",
            "conv2d_71 (Conv2D)           (None, 28, 28, 1)         2305      \n",
            "=================================================================\n",
            "Total params: 790,930\n",
            "Trainable params: 790,930\n",
            "Non-trainable params: 0\n",
            "_________________________________________________________________\n"
          ],
          "name": "stdout"
        }
      ]
    },
    {
      "cell_type": "code",
      "metadata": {
        "id": "4D7BDGWVGBlJ",
        "colab_type": "code",
        "colab": {}
      },
      "source": [
        "model_saver = tf.keras.callbacks.ModelCheckpoint(\"model_weights.h5\", \n",
        "                                                 monitor='val_loss', verbose=1, \n",
        "                                                 save_best_only=True, \n",
        "                                                 save_weights_only=False, \n",
        "                                                 mode='auto')"
      ],
      "execution_count": 0,
      "outputs": []
    },
    {
      "cell_type": "code",
      "metadata": {
        "id": "YfQzn7WfnxLo",
        "colab_type": "code",
        "outputId": "75055fe9-5628-486d-b203-c2762e209572",
        "colab": {
          "base_uri": "https://localhost:8080/",
          "height": 1424
        }
      },
      "source": [
        "history = autoencoder_train.fit(X,Y,epochs = 20,validation_data = (X_val,Y_val),callbacks = [model_saver])"
      ],
      "execution_count": 57,
      "outputs": [
        {
          "output_type": "stream",
          "text": [
            "Train on 48000 samples, validate on 12000 samples\n",
            "Epoch 1/20\n",
            "47968/48000 [============================>.] - ETA: 0s - loss: 0.0017\n",
            "Epoch 00001: val_loss improved from 0.00181 to 0.00179, saving model to model_weights.h5\n",
            "48000/48000 [==============================] - 38s 785us/sample - loss: 0.0017 - val_loss: 0.0018\n",
            "Epoch 2/20\n",
            "47968/48000 [============================>.] - ETA: 0s - loss: 0.0017\n",
            "Epoch 00002: val_loss did not improve from 0.00179\n",
            "48000/48000 [==============================] - 38s 785us/sample - loss: 0.0017 - val_loss: 0.0018\n",
            "Epoch 3/20\n",
            "47904/48000 [============================>.] - ETA: 0s - loss: 0.0016\n",
            "Epoch 00003: val_loss did not improve from 0.00179\n",
            "48000/48000 [==============================] - 38s 790us/sample - loss: 0.0016 - val_loss: 0.0019\n",
            "Epoch 4/20\n",
            "47968/48000 [============================>.] - ETA: 0s - loss: 0.0016\n",
            "Epoch 00004: val_loss improved from 0.00179 to 0.00176, saving model to model_weights.h5\n",
            "48000/48000 [==============================] - 38s 797us/sample - loss: 0.0016 - val_loss: 0.0018\n",
            "Epoch 5/20\n",
            "47904/48000 [============================>.] - ETA: 0s - loss: 0.0016\n",
            "Epoch 00005: val_loss improved from 0.00176 to 0.00174, saving model to model_weights.h5\n",
            "48000/48000 [==============================] - 38s 799us/sample - loss: 0.0016 - val_loss: 0.0017\n",
            "Epoch 6/20\n",
            "47936/48000 [============================>.] - ETA: 0s - loss: 0.0016\n",
            "Epoch 00006: val_loss did not improve from 0.00174\n",
            "48000/48000 [==============================] - 38s 800us/sample - loss: 0.0016 - val_loss: 0.0018\n",
            "Epoch 7/20\n",
            "47904/48000 [============================>.] - ETA: 0s - loss: 0.0016\n",
            "Epoch 00007: val_loss improved from 0.00174 to 0.00172, saving model to model_weights.h5\n",
            "48000/48000 [==============================] - 39s 803us/sample - loss: 0.0016 - val_loss: 0.0017\n",
            "Epoch 8/20\n",
            "47968/48000 [============================>.] - ETA: 0s - loss: 0.0016\n",
            "Epoch 00008: val_loss did not improve from 0.00172\n",
            "48000/48000 [==============================] - 38s 802us/sample - loss: 0.0016 - val_loss: 0.0019\n",
            "Epoch 9/20\n",
            "47968/48000 [============================>.] - ETA: 0s - loss: 0.0015\n",
            "Epoch 00009: val_loss did not improve from 0.00172\n",
            "48000/48000 [==============================] - 39s 805us/sample - loss: 0.0015 - val_loss: 0.0017\n",
            "Epoch 10/20\n",
            "47904/48000 [============================>.] - ETA: 0s - loss: 0.0015\n",
            "Epoch 00010: val_loss did not improve from 0.00172\n",
            "48000/48000 [==============================] - 39s 803us/sample - loss: 0.0015 - val_loss: 0.0017\n",
            "Epoch 11/20\n",
            "47904/48000 [============================>.] - ETA: 0s - loss: 0.0015\n",
            "Epoch 00011: val_loss improved from 0.00172 to 0.00171, saving model to model_weights.h5\n",
            "48000/48000 [==============================] - 39s 807us/sample - loss: 0.0015 - val_loss: 0.0017\n",
            "Epoch 12/20\n",
            "47936/48000 [============================>.] - ETA: 0s - loss: 0.0015\n",
            "Epoch 00012: val_loss improved from 0.00171 to 0.00169, saving model to model_weights.h5\n",
            "48000/48000 [==============================] - 39s 809us/sample - loss: 0.0015 - val_loss: 0.0017\n",
            "Epoch 13/20\n",
            "47968/48000 [============================>.] - ETA: 0s - loss: 0.0015\n",
            "Epoch 00013: val_loss did not improve from 0.00169\n",
            "48000/48000 [==============================] - 39s 805us/sample - loss: 0.0015 - val_loss: 0.0017\n",
            "Epoch 14/20\n",
            "47968/48000 [============================>.] - ETA: 0s - loss: 0.0015\n",
            "Epoch 00014: val_loss did not improve from 0.00169\n",
            "48000/48000 [==============================] - 39s 804us/sample - loss: 0.0015 - val_loss: 0.0017\n",
            "Epoch 15/20\n",
            "47968/48000 [============================>.] - ETA: 0s - loss: 0.0015\n",
            "Epoch 00015: val_loss did not improve from 0.00169\n",
            "48000/48000 [==============================] - 39s 807us/sample - loss: 0.0015 - val_loss: 0.0018\n",
            "Epoch 16/20\n",
            "47904/48000 [============================>.] - ETA: 0s - loss: 0.0015\n",
            "Epoch 00016: val_loss improved from 0.00169 to 0.00169, saving model to model_weights.h5\n",
            "48000/48000 [==============================] - 39s 805us/sample - loss: 0.0015 - val_loss: 0.0017\n",
            "Epoch 17/20\n",
            "47904/48000 [============================>.] - ETA: 0s - loss: 0.0015\n",
            "Epoch 00017: val_loss did not improve from 0.00169\n",
            "48000/48000 [==============================] - 39s 806us/sample - loss: 0.0015 - val_loss: 0.0019\n",
            "Epoch 18/20\n",
            "47968/48000 [============================>.] - ETA: 0s - loss: 0.0015\n",
            "Epoch 00018: val_loss did not improve from 0.00169\n",
            "48000/48000 [==============================] - 39s 803us/sample - loss: 0.0015 - val_loss: 0.0018\n",
            "Epoch 19/20\n",
            "47968/48000 [============================>.] - ETA: 0s - loss: 0.0015\n",
            "Epoch 00019: val_loss improved from 0.00169 to 0.00165, saving model to model_weights.h5\n",
            "48000/48000 [==============================] - 39s 808us/sample - loss: 0.0015 - val_loss: 0.0016\n",
            "Epoch 20/20\n",
            "47968/48000 [============================>.] - ETA: 0s - loss: 0.0014\n",
            "Epoch 00020: val_loss did not improve from 0.00165\n",
            "48000/48000 [==============================] - 39s 807us/sample - loss: 0.0014 - val_loss: 0.0018\n"
          ],
          "name": "stdout"
        }
      ]
    },
    {
      "cell_type": "markdown",
      "metadata": {
        "id": "YHbCo3h-Taku",
        "colab_type": "text"
      },
      "source": [
        "#Encoding-Decoding test images"
      ]
    },
    {
      "cell_type": "markdown",
      "metadata": {
        "id": "Lkrqe-rIULFS",
        "colab_type": "text"
      },
      "source": [
        "Making seperate encoder and decoder models"
      ]
    },
    {
      "cell_type": "code",
      "metadata": {
        "id": "mpzYPu5RHw7E",
        "colab_type": "code",
        "colab": {}
      },
      "source": [
        "encoder = Model(input_img,autoencoder_train.layers[11].output)"
      ],
      "execution_count": 0,
      "outputs": []
    },
    {
      "cell_type": "code",
      "metadata": {
        "id": "ZutXDOXRKNLZ",
        "colab_type": "code",
        "colab": {
          "base_uri": "https://localhost:8080/",
          "height": 573
        },
        "outputId": "9a4833e4-e187-4431-a06b-ce20cace7c8c"
      },
      "source": [
        "encoder.summary()"
      ],
      "execution_count": 43,
      "outputs": [
        {
          "output_type": "stream",
          "text": [
            "Model: \"model_6\"\n",
            "_________________________________________________________________\n",
            "Layer (type)                 Output Shape              Param #   \n",
            "=================================================================\n",
            "input_4 (InputLayer)         [(None, 28, 28, 1)]       0         \n",
            "_________________________________________________________________\n",
            "conv2d_54 (Conv2D)           (None, 28, 28, 256)       2560      \n",
            "_________________________________________________________________\n",
            "conv2d_55 (Conv2D)           (None, 28, 28, 128)       295040    \n",
            "_________________________________________________________________\n",
            "conv2d_56 (Conv2D)           (None, 28, 28, 64)        73792     \n",
            "_________________________________________________________________\n",
            "max_pooling2d_6 (MaxPooling2 (None, 14, 14, 64)        0         \n",
            "_________________________________________________________________\n",
            "conv2d_57 (Conv2D)           (None, 14, 14, 32)        18464     \n",
            "_________________________________________________________________\n",
            "conv2d_58 (Conv2D)           (None, 14, 14, 16)        4624      \n",
            "_________________________________________________________________\n",
            "conv2d_59 (Conv2D)           (None, 14, 14, 8)         136       \n",
            "_________________________________________________________________\n",
            "max_pooling2d_7 (MaxPooling2 (None, 7, 7, 8)           0         \n",
            "_________________________________________________________________\n",
            "conv2d_60 (Conv2D)           (None, 7, 7, 4)           292       \n",
            "_________________________________________________________________\n",
            "conv2d_61 (Conv2D)           (None, 7, 7, 2)           10        \n",
            "_________________________________________________________________\n",
            "conv2d_62 (Conv2D)           (None, 7, 7, 1)           3         \n",
            "=================================================================\n",
            "Total params: 394,921\n",
            "Trainable params: 394,921\n",
            "Non-trainable params: 0\n",
            "_________________________________________________________________\n"
          ],
          "name": "stdout"
        }
      ]
    },
    {
      "cell_type": "code",
      "metadata": {
        "id": "_EzrC6G8IHRx",
        "colab_type": "code",
        "colab": {}
      },
      "source": [
        "idx = 12  # index of desired layer\n",
        "input_shape = autoencoder_train.layers[idx].get_input_shape_at(0)[1:] # get the input shape of desired layer\n",
        "layer_input = Input(shape=input_shape) # a new input tensor to be able to feed the desired layer\n",
        "\n",
        "# create the new nodes for each layer in the path\n",
        "x = layer_input\n",
        "for layer in autoencoder_train.layers[idx:]:\n",
        "    x = layer(x)\n",
        "\n",
        "# create the model\n",
        "decoder = Model(layer_input, x)"
      ],
      "execution_count": 0,
      "outputs": []
    },
    {
      "cell_type": "code",
      "metadata": {
        "id": "-a9uHnWiKJAW",
        "colab_type": "code",
        "colab": {
          "base_uri": "https://localhost:8080/",
          "height": 573
        },
        "outputId": "c46bc3a6-e687-40ea-d537-f6d38abaf54c"
      },
      "source": [
        "decoder.summary()"
      ],
      "execution_count": 45,
      "outputs": [
        {
          "output_type": "stream",
          "text": [
            "Model: \"model_7\"\n",
            "_________________________________________________________________\n",
            "Layer (type)                 Output Shape              Param #   \n",
            "=================================================================\n",
            "input_5 (InputLayer)         [(None, 7, 7, 1)]         0         \n",
            "_________________________________________________________________\n",
            "conv2d_63 (Conv2D)           (None, 7, 7, 2)           4         \n",
            "_________________________________________________________________\n",
            "conv2d_64 (Conv2D)           (None, 7, 7, 4)           76        \n",
            "_________________________________________________________________\n",
            "conv2d_65 (Conv2D)           (None, 7, 7, 8)           296       \n",
            "_________________________________________________________________\n",
            "up_sampling2d_6 (UpSampling2 (None, 14, 14, 8)         0         \n",
            "_________________________________________________________________\n",
            "conv2d_66 (Conv2D)           (None, 14, 14, 16)        1168      \n",
            "_________________________________________________________________\n",
            "conv2d_67 (Conv2D)           (None, 14, 14, 32)        4640      \n",
            "_________________________________________________________________\n",
            "conv2d_68 (Conv2D)           (None, 14, 14, 64)        18496     \n",
            "_________________________________________________________________\n",
            "up_sampling2d_7 (UpSampling2 (None, 28, 28, 64)        0         \n",
            "_________________________________________________________________\n",
            "conv2d_69 (Conv2D)           (None, 28, 28, 128)       73856     \n",
            "_________________________________________________________________\n",
            "conv2d_70 (Conv2D)           (None, 28, 28, 256)       295168    \n",
            "_________________________________________________________________\n",
            "conv2d_71 (Conv2D)           (None, 28, 28, 1)         2305      \n",
            "=================================================================\n",
            "Total params: 396,009\n",
            "Trainable params: 396,009\n",
            "Non-trainable params: 0\n",
            "_________________________________________________________________\n"
          ],
          "name": "stdout"
        }
      ]
    },
    {
      "cell_type": "code",
      "metadata": {
        "id": "JazTEhJmIBmM",
        "colab_type": "code",
        "colab": {}
      },
      "source": [
        "code = encoder.predict(x_test)"
      ],
      "execution_count": 0,
      "outputs": []
    },
    {
      "cell_type": "markdown",
      "metadata": {
        "id": "ZDifhBQuUZZd",
        "colab_type": "text"
      },
      "source": [
        "28*28 image is coded to a 7*7  dimension space "
      ]
    },
    {
      "cell_type": "code",
      "metadata": {
        "id": "nxUen3CtLOiz",
        "colab_type": "code",
        "colab": {
          "base_uri": "https://localhost:8080/",
          "height": 34
        },
        "outputId": "5150c3fc-6e5f-4920-f3b7-fdca4b0cf2f1"
      },
      "source": [
        "code.shape"
      ],
      "execution_count": 47,
      "outputs": [
        {
          "output_type": "execute_result",
          "data": {
            "text/plain": [
              "(10000, 7, 7, 1)"
            ]
          },
          "metadata": {
            "tags": []
          },
          "execution_count": 47
        }
      ]
    },
    {
      "cell_type": "code",
      "metadata": {
        "id": "UqhqxoudKVlY",
        "colab_type": "code",
        "colab": {}
      },
      "source": [
        "extract = decoder.predict(code)"
      ],
      "execution_count": 0,
      "outputs": []
    },
    {
      "cell_type": "code",
      "metadata": {
        "id": "md7MHI8tLQOQ",
        "colab_type": "code",
        "colab": {
          "base_uri": "https://localhost:8080/",
          "height": 34
        },
        "outputId": "5e37ab14-adf5-4933-94cf-8399eb53e939"
      },
      "source": [
        "extract.shape"
      ],
      "execution_count": 49,
      "outputs": [
        {
          "output_type": "execute_result",
          "data": {
            "text/plain": [
              "(10000, 28, 28, 1)"
            ]
          },
          "metadata": {
            "tags": []
          },
          "execution_count": 49
        }
      ]
    },
    {
      "cell_type": "markdown",
      "metadata": {
        "id": "07njBs4KRYrt",
        "colab_type": "text"
      },
      "source": [
        "#Plotting original and extracted images"
      ]
    },
    {
      "cell_type": "code",
      "metadata": {
        "id": "H2ujL2wgPCtk",
        "colab_type": "code",
        "colab": {
          "base_uri": "https://localhost:8080/",
          "height": 1139
        },
        "outputId": "b93de1b6-8234-4315-9a25-8208aa308292"
      },
      "source": [
        "w=10\n",
        "h=10\n",
        "fig=plt.figure(figsize=(10, 20))\n",
        "columns = 2\n",
        "rows = 10\n",
        "j = 0\n",
        "k = 0\n",
        "for i in range(1, columns*rows +1):\n",
        "    if i%2 == 0:\n",
        "        img = extract[j,...,0]\n",
        "        j+=1\n",
        "    else:\n",
        "        img = x_test[k,...,0]\n",
        "        k+=1\n",
        "    fig.add_subplot(rows, columns, i)\n",
        "    plt.imshow(img,cmap = 'gray')\n",
        "plt.show()"
      ],
      "execution_count": 50,
      "outputs": [
        {
          "output_type": "display_data",
          "data": {
            "image/png": "[encoded data removed]",
            "text/plain": [
              "<Figure size 720x1440 with 20 Axes>"
            ]
          },
          "metadata": {
            "tags": []
          }
        }
      ]
    },
    {
      "cell_type": "code",
      "metadata": {
        "id": "bzfaCbpJQN9e",
        "colab_type": "code",
        "colab": {}
      },
      "source": [
        ""
      ],
      "execution_count": 0,
      "outputs": []
    }
  ]
}